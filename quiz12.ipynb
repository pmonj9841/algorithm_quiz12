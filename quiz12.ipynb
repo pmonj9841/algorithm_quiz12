{
 "cells": [
  {
   "cell_type": "markdown",
   "id": "aefa3da2",
   "metadata": {},
   "source": [
    "# Q1"
   ]
  },
  {
   "cell_type": "code",
   "execution_count": 37,
   "id": "b6e4df4a",
   "metadata": {},
   "outputs": [],
   "source": [
    "graph = {\n",
    "    'A': ['B', 'C'],\n",
    "    'B': ['D', 'E'],\n",
    "    'C': ['F', 'G'],\n",
    "    'D': ['H', 'I'],\n",
    "    'E': ['J'],\n",
    "    'F': [], 'G': [], 'H': [], 'I': [], 'J': []\n",
    "}"
   ]
  },
  {
   "cell_type": "code",
   "execution_count": 38,
   "id": "f8e180f5",
   "metadata": {},
   "outputs": [
    {
     "name": "stdout",
     "output_type": "stream",
     "text": [
      "→ 경로: A\n",
      "→ 경로: A->B\n",
      "→ 경로: A->B->D\n",
      "→ 경로: A->B->D->H\n",
      "→ 경로: A->B->D->I\n",
      "→ 경로: A->B->E\n",
      "→ 경로: A->B->E->J\n",
      "→ 경로: A->C\n",
      "→ 경로: A->C->F\n",
      "→ 경로: A->C->G\n"
     ]
    }
   ],
   "source": [
    "# 깊이 우선 탐색(DFS) 함수 정의\n",
    "def dfs(node, visited=None, path_trace=None):\n",
    "    # 방문한 노드를 기록하는 리스트\n",
    "    if visited is None:\n",
    "        visited = []\n",
    "\n",
    "    # 현재까지 탐색 경로를 저장\n",
    "    if path_trace is None:\n",
    "        path_trace = []\n",
    "\n",
    "    # 현재 노드를 방문 처리\n",
    "    visited.append(node)\n",
    "\n",
    "    # 경로 추적을 위해 현재 노드를 경로에 추가\n",
    "    path_trace.append(node)\n",
    "\n",
    "    # 현재까지의 탐색 경로 출력\n",
    "    print(\"→ 경로:\", \"->\".join(path_trace))\n",
    "\n",
    "    # 현재 노드에 연결된 모든 이웃 노드를 탐색\n",
    "    for neighbor in sorted(graph[node]):\n",
    "        if neighbor not in visited:           # 아직 방문하지 않은 경우에만\n",
    "            dfs(neighbor, visited, path_trace)  # 재귀 탐색\n",
    "\n",
    "    # 해당 노드에서의 탐색이 끝나면 경로에서 제거\n",
    "    path_trace.pop()\n",
    "\n",
    "# 시작 노드를 'A'로 설정하여 DFS 탐색 시작\n",
    "dfs('A')"
   ]
  },
  {
   "cell_type": "markdown",
   "id": "fa5fa039",
   "metadata": {},
   "source": [
    "Answer:\n",
    "A->B->D->H\n",
    "\n",
    "설명: \n",
    "1. A로부터 시작한다. Visited과 path_trace에 A를 넣는다.\n",
    "2. A의 자식 노드 중 먼저 B와 그 아래 노드들을 탐색한다.\n",
    "3. Visited과 path_trace에 B를 추가한다.\n",
    "4. 이와 같은 방식으로 B의 자식 노드들을 탐색한다. 끝에 다다르면 path_trace.pop을 통해 path_trace에서 노드를 빼서 뒤로 돌아간다.\n",
    "5. if neighbor not in visited을 통해 방문한 노드는 방문하지 않도록 한다.\n",
    "6. 이와 같은 방식으로 모든 경로를 탐색한다."
   ]
  },
  {
   "cell_type": "markdown",
   "id": "ffa0bfd0",
   "metadata": {},
   "source": [
    "# Q2"
   ]
  },
  {
   "cell_type": "code",
   "execution_count": 34,
   "id": "9ad086f8",
   "metadata": {},
   "outputs": [],
   "source": [
    "graph = {\n",
    "    'A': ['B', 'C'],\n",
    "    'B': ['D', 'E'],\n",
    "    'C': ['F', 'G'],\n",
    "    'D': [], 'E': [], 'F': [], 'G': []\n",
    "}"
   ]
  },
  {
   "cell_type": "code",
   "execution_count": 35,
   "id": "333bc11a",
   "metadata": {},
   "outputs": [
    {
     "name": "stdout",
     "output_type": "stream",
     "text": [
      "🔍 BFS 탐색 결과 (알파벳 우선순위 기준):\n",
      "방문: A\n",
      "큐 내용 (리스트 형태): ['B', 'C']\n",
      "방문: B\n",
      "큐 내용 (리스트 형태): ['C', 'D', 'E']\n",
      "방문: C\n",
      "큐 내용 (리스트 형태): ['D', 'E', 'F', 'G']\n",
      "방문: D\n",
      "큐 내용 (리스트 형태): ['E', 'F', 'G']\n",
      "방문: E\n",
      "큐 내용 (리스트 형태): ['F', 'G']\n",
      "방문: F\n",
      "큐 내용 (리스트 형태): ['G']\n",
      "방문: G\n",
      "큐 내용 (리스트 형태): []\n",
      "→ 순서: ['A', 'B', 'C', 'D', 'E', 'F', 'G']\n"
     ]
    }
   ],
   "source": [
    "# 너비 우선 탐색 함수\n",
    "def bfs(start):\n",
    "    visited = []                 # 방문한 노드 기록\n",
    "    queue = deque([start])       # 큐에 시작 노드 삽입\n",
    "    #deque : collections 모듈에 있는 양방향 큐(Double-Ended Queue) 자료\n",
    "    #queue:이후 탐색 대상이 담길 큐\n",
    "\n",
    "    # queue가 빌 때까지 반복한다.\n",
    "    while queue:\n",
    "        node = queue.popleft()   # 큐에서 가장 먼저 들어온 노드를 꺼냄\n",
    "        if node not in visited: # 방문하지 않은 것만 탐색.\n",
    "            print(f\"방문: {node}\")\n",
    "            visited.append(node) \n",
    "            # 알파벳 순으로 인접 노드를 큐에 추가\n",
    "            queue.extend(sorted(graph[node]))\n",
    "            print(\"큐 내용 (리스트 형태):\", list(queue))\n",
    "\n",
    "    return visited\n",
    "\n",
    "# 실행\n",
    "print(\"🔍 BFS 탐색 결과 (알파벳 우선순위 기준):\")\n",
    "result = bfs('A')\n",
    "print(\"→ 순서:\", result)"
   ]
  },
  {
   "cell_type": "markdown",
   "id": "8652d984",
   "metadata": {},
   "source": [
    "Answer: E\n",
    "\n",
    "설명: \n",
    "1. A부터 시작하여 인접 노드들 먼저 탐색한다.\n",
    "2. 탐색을 한 노드는 pop으로 queue에서 빼내고, 탐색한 노드와 이웃한 노드들을 queue에 추가한다.\n",
    "3. While을 통해 queue의 가장 왼쪽에 있는 것들을 하나씩 탐색한다.\n",
    "4. if node not in visited을 통해 탐색한 것은 다시 탐색하지 않도록 한다."
   ]
  },
  {
   "cell_type": "markdown",
   "id": "dd93a6b4",
   "metadata": {},
   "source": [
    "# Q3"
   ]
  },
  {
   "cell_type": "code",
   "execution_count": 22,
   "id": "796592d6",
   "metadata": {},
   "outputs": [
    {
     "name": "stdout",
     "output_type": "stream",
     "text": [
      "✅ 최소 비용 신장 트리 간선 목록:\n",
      "0 - 1, 비용: 1\n",
      "1 - 2, 비용: 2\n",
      "2 - 3, 비용: 3\n",
      "\n",
      "🌟 총 비용: 6\n"
     ]
    },
    {
     "data": {
      "image/png": "[encoded data removed]",
      "text/plain": [
       "<Figure size 1000x400 with 2 Axes>"
      ]
     },
     "metadata": {},
     "output_type": "display_data"
    }
   ],
   "source": [
    "# networkx는 그래프를 생성하고 다루기 위한 라이브러리\n",
    "import networkx as nx\n",
    "# matplotlib는 그래프를 시각화하는 데 사용\n",
    "import matplotlib.pyplot as plt\n",
    "\n",
    "# 1. 그래프 정의 (가중치 포함)\n",
    "G = nx.Graph()  # 무방향 그래프 객체 생성\n",
    "\n",
    "# 간선 정의: (노드1, 노드2, 가중치) 형식의 튜플 리스트\n",
    "edges = [\n",
    "    (0, 1, 1),\n",
    "    (1, 2, 2),\n",
    "    (2, 3, 3),\n",
    "    (3, 0, 4)\n",
    "]\n",
    "\n",
    "# 정의한 간선들을 그래프 G에 추가 (가중치 포함)\n",
    "G.add_weighted_edges_from(edges)\n",
    "\n",
    "# 2. Kruskal 알고리즘을 사용해 MST(최소 비용 신장 트리) 생성\n",
    "# networkx가 자동으로 사이클 없이 최소 가중치 간선만 선택\n",
    "mst = nx.minimum_spanning_tree(G, algorithm='kruskal')\n",
    "\n",
    "# 3. MST의 총 가중치(비용) 계산\n",
    "total_cost = sum(data['weight'] for u, v, data in mst.edges(data=True))\n",
    "\n",
    "# MST에 포함된 간선들을 출력\n",
    "print(\"✅ 최소 비용 신장 트리 간선 목록:\")\n",
    "for u, v, data in mst.edges(data=True):\n",
    "    print(f\"{u} - {v}, 비용: {data['weight']}\")\n",
    "\n",
    "# 최종 총 비용 출력\n",
    "print(f\"\\n🌟 총 비용: {total_cost}\")\n",
    "\n",
    "# 4. 시각화용 노드 위치 정의 (spring layout은 노드 간 적절한 거리 계산)\n",
    "pos = nx.spring_layout(G, seed=42)\n",
    "\n",
    "plt.figure(figsize=(10, 4))  # 전체 그림 사이즈 설정\n",
    "\n",
    "# [좌측] 원래 그래프 출력\n",
    "plt.subplot(1, 2, 1)  # 1행 2열 중 첫 번째 그래프\n",
    "nx.draw(G, pos, with_labels=True, node_color='skyblue', edge_color='gray')  # 기본 그래프\n",
    "nx.draw_networkx_edge_labels(G, pos, edge_labels={(u, v): w for u, v, w in edges})  # 가중치 표시\n",
    "plt.title(\"original graph\")\n",
    "\n",
    "# [우측] MST 시각화\n",
    "plt.subplot(1, 2, 2)  # 1행 2열 중 두 번째 그래프\n",
    "nx.draw(mst, pos, with_labels=True, node_color='lightgreen', edge_color='orange', width=2)  # MST 강조\n",
    "nx.draw_networkx_edge_labels(mst, pos, edge_labels={(u, v): data['weight'] for u, v, data in mst.edges(data=True)})\n",
    "plt.title(\"Minimum Cost Spanning Tree(MST)\")\n",
    "\n",
    "# 그래프 간 간격 자동 조절\n",
    "plt.tight_layout()\n",
    "plt.show()"
   ]
  },
  {
   "cell_type": "markdown",
   "id": "d529ccb9",
   "metadata": {},
   "source": [
    "Answer: 6\n",
    "\n",
    "선택된 간선 목록: (0,1), (1,2), (2,3)\n",
    "\n",
    "선택 기준: Kruskal 알고리즘을 사용해 간선의 가중치의 합이 가장 작은 Tree를 이루도록 간선이 선택되었다. "
   ]
  },
  {
   "cell_type": "markdown",
   "id": "01f41b53",
   "metadata": {},
   "source": [
    "# Q4"
   ]
  },
  {
   "cell_type": "code",
   "execution_count": 24,
   "id": "9e714a41",
   "metadata": {},
   "outputs": [],
   "source": [
    "meetings = [\n",
    "    (9, 9.75),   # 회의 A: 09:00~09:45\n",
    "    (9.5, 10.5), # 회의 B: 09:30~10:30\n",
    "    (10, 10.33), # 회의 C: 10:00~10:20\n",
    "    (10.5, 11),  # 회의 D: 10:30~11:00\n",
    "    (11, 12),    # 회의 E: 11:00~12:00\n",
    "    (9.25, 10),  # 회의 F: 09:15~10:00\n",
    "    (13, 13.5),  # 회의 G: 13:00~13:30\n",
    "    (12.5, 13.5),# 회의 H: 12:30~13:30\n",
    "    (14, 15),    # 회의 I: 14:00~15:00\n",
    "    (15, 16)     # 회의 J: 15:00~16:00\n",
    "]"
   ]
  },
  {
   "cell_type": "code",
   "execution_count": 25,
   "id": "c5b102e4",
   "metadata": {},
   "outputs": [
    {
     "name": "stdout",
     "output_type": "stream",
     "text": [
      "선택 회의: (9, 9.75) → (10, 10.33) → (10.5, 11) → (11, 12) → (13, 13.5) → (14, 15) → (15, 16)\n",
      "출력: 7\n"
     ]
    }
   ],
   "source": [
    "# 📌 종료 시간을 기준으로 오름차순 정렬\n",
    "meetings.sort(key=lambda x: x[1])\n",
    "\n",
    "# 🕓 현재 회의가 끝난 시간을 저장하는 변수\n",
    "end_time = 0\n",
    "\n",
    "# ✅ 배정된 회의 수와 선택된 회의 목록\n",
    "selected_meetings = []\n",
    "\n",
    "# 🔁 정렬된 회의 목록을 순회하며 회의 선택\n",
    "# 시작 시간과 끝나는 시간을 각각 start와 end에 배정\n",
    "for start, end in meetings:\n",
    "    # 시작 시간이 끝 시간보다 큰 것만 추가\n",
    "    if start >= end_time:\n",
    "        selected_meetings.append((start, end))  # 선택된 회의 기록\n",
    "        end_time = end                          # 종료 시간 갱신\n",
    "\n",
    "# 📤 결과 출력\n",
    "# 회의 목록을 '→' 기호로 연결해서 출력\n",
    "print(\"선택 회의:\", \" → \".join([f\"({s}, {e})\" for s, e in selected_meetings]))\n",
    "print(\"출력:\", len(selected_meetings))"
   ]
  },
  {
   "cell_type": "markdown",
   "id": "197c8523",
   "metadata": {},
   "source": [
    "Answer: (9, 9.75) → (10, 10.33) → (10.5, 11) → (11, 12) → (13, 13.5) → (14, 15) → (15, 16)\n",
    "\n",
    "선택 기준: 가장 먼저 끝나는 회의를 우선 배정한다. 해당 회의가 끝나는 시간을 기준으로 회의 시작 시간이 같거나 큰 것중 회의가 가장 먼저 끝나는 회의를 배정한다. 이를 반복한다."
   ]
  },
  {
   "cell_type": "markdown",
   "id": "6853202b",
   "metadata": {},
   "source": [
    "# Q5-1"
   ]
  },
  {
   "cell_type": "code",
   "execution_count": 26,
   "id": "e48dbe58",
   "metadata": {},
   "outputs": [
    {
     "name": "stdout",
     "output_type": "stream",
     "text": [
      "4  (500x2 + 100x2)\n"
     ]
    }
   ],
   "source": [
    "# 💰 사용 가능한 동전 단위를 리스트로 정의\n",
    "# 큰 단위부터 정렬되어 있어야 탐욕 알고리즘이 유효하게 작동함\n",
    "coins = [500, 400, 100]\n",
    "\n",
    "# 📥 사용자로부터 거슬러 줄 금액 N을 입력받음 (정수형으로 변환)\n",
    "n = 1200\n",
    "\n",
    "# 🧾 count: 사용된 동전 총 개수를 저장하는 변수\n",
    "# used: 각 동전 단위별 사용 개수를 기록할 리스트\n",
    "count = 0\n",
    "used = []\n",
    "\n",
    "# 🔁 각 동전 단위에 대해 반복하면서 거슬러줄 금액 계산\n",
    "for coin in coins:\n",
    "    # 현재 금액 n에서 해당 동전 단위 coin을 최대 몇 개 사용할 수 있는지 계산\n",
    "    num = n // coin\n",
    "\n",
    "    # 해당 동전이 1개 이상 사용될 경우에만 처리\n",
    "    if num > 0:\n",
    "        # 예: \"500x1\" 형태로 조합 기록\n",
    "        used.append(f\"{coin}x{num}\")\n",
    "\n",
    "        # 전체 동전 개수 누적\n",
    "        count += num\n",
    "\n",
    "        # 현재 동전 사용 후 남은 금액으로 갱신\n",
    "        n %= coin\n",
    "\n",
    "# 🖨️ 최종 결과 출력\n",
    "print(f\"{count}  ({' + '.join(used)})\")"
   ]
  },
  {
   "cell_type": "markdown",
   "id": "529d0d28",
   "metadata": {},
   "source": [
    "Answer: (500x2 + 100x2)\n",
    "\n",
    "설명: for loop를 큰 단위의 동전부터 시작하여 돌린다. num에 해당 동전이 배정된 숫자를 저장한다."
   ]
  },
  {
   "cell_type": "markdown",
   "id": "4df7216d",
   "metadata": {},
   "source": [
    "# Q5-2"
   ]
  },
  {
   "cell_type": "markdown",
   "id": "4c147a78",
   "metadata": {},
   "source": [
    "최적해가 아니다. 왜냐하면 400원 동전이 3개 있으면 1200원이 되기 때문이다. "
   ]
  },
  {
   "cell_type": "markdown",
   "id": "2a30303d",
   "metadata": {},
   "source": [
    "# Q5-3"
   ]
  },
  {
   "cell_type": "markdown",
   "id": "d9c968a9",
   "metadata": {},
   "source": [
    "탐욕적 선택 방법을 사용하기 위한 조건인 'Greedy choice property'가 없기 때문이다. 즉, 국소 선택이 전역 최적을 포함하지 않는다. 가지고 있는 동전이 서로 배수 관계라면(예: 500, 250, 50) 탐욕적 선택 방법을 사용할 수 있을 것이다. 하지만, 현재 문제의 경우 단위가 배수 관계가 아니이기에 가장 큰 동전 말고 다른 동전들로 최적해가 나올 가능성이 있다."
   ]
  },
  {
   "cell_type": "markdown",
   "id": "f6538f8d",
   "metadata": {},
   "source": [
    "# Q6"
   ]
  },
  {
   "cell_type": "markdown",
   "id": "dbaa119c",
   "metadata": {},
   "source": [
    "억지기법(Brute force)알고리즘이라고 한다. 가능한 모든 경우를 확인하여 전역 최적해를 찾는다. 예를 들어, For loop로 가능한 모든 경우에 대해 계산을 해볼 수 있다. 장점은 전역 최적해를 구할 수 있다는 것이다. 단점은 계산 횟수가 많아져서 계산이 오래 걸릴 수 있다는 것이다. 그러기에 문제 크기가 감당 가능한 크기이고 전역 최적을 구하는 것이 중요할 떄 사용한다."
   ]
  },
  {
   "cell_type": "code",
   "execution_count": 33,
   "id": "e6956941",
   "metadata": {},
   "outputs": [
    {
     "name": "stdout",
     "output_type": "stream",
     "text": [
      "정답: 3000\n"
     ]
    }
   ],
   "source": [
    "# 실제 번호\n",
    "realpw = 3000\n",
    "\n",
    "# 0부터 시도해보기\n",
    "for pw in range(10000):\n",
    "    if pw == realpw:\n",
    "        print(\"정답:\", pw)\n",
    "        break"
   ]
  },
  {
   "cell_type": "markdown",
   "id": "01399c82",
   "metadata": {},
   "source": [
    "# 21900749 최승리"
   ]
  },
  {
   "cell_type": "code",
   "execution_count": null,
   "id": "0a5b2f47",
   "metadata": {},
   "outputs": [],
   "source": []
  }
 ],
 "metadata": {
  "kernelspec": {
   "display_name": "Python 3 (ipykernel)",
   "language": "python",
   "name": "python3"
  },
  "language_info": {
   "codemirror_mode": {
    "name": "ipython",
    "version": 3
   },
   "file_extension": ".py",
   "mimetype": "text/x-python",
   "name": "python",
   "nbconvert_exporter": "python",
   "pygments_lexer": "ipython3",
   "version": "3.11.8"
  }
 },
 "nbformat": 4,
 "nbformat_minor": 5
}
